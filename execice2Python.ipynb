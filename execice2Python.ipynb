{
 "cells": [
  {
   "cell_type": "code",
   "execution_count": 8,
   "id": "f0ea0020",
   "metadata": {},
   "outputs": [
    {
     "name": "stdout",
     "output_type": "stream",
     "text": [
      "Entrez un nombre : 0\n",
      "0 ! =  1\n"
     ]
    }
   ],
   "source": [
    "#Factorielle\n",
    "\n",
    "N = int(input('Entrez un nombre : '))\n",
    "def factorielle(n):\n",
    "    fact = 1\n",
    "    for i in range(1, n+1):\n",
    "      fact = fact * i\n",
    "    print (n,'! = ',fact)\n",
    "factorielle(N)"
   ]
  },
  {
   "cell_type": "code",
   "execution_count": 34,
   "id": "31f77b26",
   "metadata": {},
   "outputs": [
    {
     "name": "stdout",
     "output_type": "stream",
     "text": [
      "Entrez un nombre: 10\n",
      "[1, 3, 5, 7, 9]\n"
     ]
    }
   ],
   "source": [
    "# Demande à l'utilisateur d'entrer un nombre\n",
    "N = int(input(\"Entrez un nombre: \"))\n",
    "impaires = []\n",
    "\n",
    "def impaire(n):\n",
    "    for i in range(1, n+1):\n",
    "        if (i % 2) != 0:\n",
    "            impaires.append(i)\n",
    "    print(impaires)\n",
    "           \n",
    "impaire(N)"
   ]
  },
  {
   "cell_type": "code",
   "execution_count": 57,
   "id": "e664d44d",
   "metadata": {},
   "outputs": [
    {
     "name": "stdout",
     "output_type": "stream",
     "text": [
      "[10, 17, 25, 38, 72]\n",
      "[10, 17, 25, 38, 72, 12]\n",
      "[72, 38, 25, 17, 12, 10]\n",
      "6\n",
      "[72, 25, 17, 12, 10]\n",
      "[17]\n",
      "[72, 25]\n",
      "[12, 10]\n"
     ]
    }
   ],
   "source": [
    "liste = [17,38,10,25,72]\n",
    "liste.sort()\n",
    "print (liste)\n",
    "liste.append(12)\n",
    "print (liste)\n",
    "liste.sort (reverse = True)\n",
    "print(liste)\n",
    "print(len(liste))\n",
    "liste.remove(38)\n",
    "print(liste)\n",
    "print(liste[2:3])\n",
    "print(liste[:2])\n",
    "print(liste[3:])"
   ]
  },
  {
   "cell_type": "code",
   "execution_count": 35,
   "id": "6f86ac14",
   "metadata": {},
   "outputs": [
    {
     "name": "stdout",
     "output_type": "stream",
     "text": [
      "[1, 2, 4, 9, 5]\n"
     ]
    }
   ],
   "source": [
    "nbrListe  = [1, 1, 2, 4, 9, 2, 5, 4]\n",
    "\n",
    "new_list = [] \n",
    "for i in nbrListe : \n",
    "    if i not in new_list: \n",
    "        new_list.append(i) \n",
    "\n",
    "print(new_list)"
   ]
  },
  {
   "cell_type": "code",
   "execution_count": null,
   "id": "68c28db8",
   "metadata": {},
   "outputs": [],
   "source": [
    " "
   ]
  }
 ],
 "metadata": {
  "kernelspec": {
   "display_name": "Python 3",
   "language": "python",
   "name": "python3"
  },
  "language_info": {
   "codemirror_mode": {
    "name": "ipython",
    "version": 3
   },
   "file_extension": ".py",
   "mimetype": "text/x-python",
   "name": "python",
   "nbconvert_exporter": "python",
   "pygments_lexer": "ipython3",
   "version": "3.8.8"
  }
 },
 "nbformat": 4,
 "nbformat_minor": 5
}

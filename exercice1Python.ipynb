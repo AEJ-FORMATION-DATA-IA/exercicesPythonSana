{
 "cells": [
  {
   "cell_type": "code",
   "execution_count": 1,
   "source": [
    "masse = float(input(\"veuillez entrez votre masse: \"))\r\n",
    "taille = float(input(\"veuillez entrez votre taille en (cm): \"))\r\n",
    "\r\n",
    "taille = taille / 100\r\n",
    "def imc(masse, taille):\r\n",
    "    imc = masse /(taille ** 2)\r\n",
    "    imc = float(round(imc,2))\r\n",
    "    print(\"IMC = \",imc,\"kg/m2\")\r\n",
    "    if imc<25:\r\n",
    "        print(\"Interpretation: corpulence normale\")\r\n",
    "    elif imc>25:\r\n",
    "        print(\"Interpretation: surpoids\")\r\n",
    "        \r\n",
    "imc(masse, taille)"
   ],
   "outputs": [],
   "metadata": {}
  },
  {
   "cell_type": "code",
   "execution_count": 17,
   "source": [
    "noteBac = float(input(\"Veuillez entrez la note obtenu au BAC: \"))\r\n",
    "\r\n",
    "def mention(note):\r\n",
    "    if note >= 16 and note <= 20:\r\n",
    "        print(\"BAC avec mention très bien (TB)\")\r\n",
    "        \r\n",
    "    elif note >= 14 and note < 16:\r\n",
    "        print(\"BAC avec mention Bien\")\r\n",
    "        \r\n",
    "    elif note >= 12 and note < 14:\r\n",
    "        print(\"BAC avec mention Assez Bien\")\r\n",
    "        \r\n",
    "    elif note >= 10 and note < 12:\r\n",
    "        print(\"BAC avec mention Passable\")\r\n",
    "        \r\n",
    "    elif note >= 0 and note < 10:\r\n",
    "        print(\"Recalé\")\r\n",
    "    else:\r\n",
    "        print(\"Veuillez entrez une note valide\")\r\n",
    "        \r\n",
    "mention(noteBac)"
   ],
   "outputs": [
    {
     "output_type": "stream",
     "name": "stdout",
     "text": [
      "Veuillez entrez la note obtenu au BAC: 4\n",
      "Recalé\n"
     ]
    }
   ],
   "metadata": {}
  },
  {
   "cell_type": "code",
   "execution_count": 34,
   "source": [
    "import math\n",
    "\n",
    "R = float(input(\"Veuillez entrez le Rayon du disque: \"))\n",
    "unite = input(\"Veuillez entrez l'unite du Rayon(m ou cm): \")\n",
    "\n",
    "def airedisque(r, unite):\n",
    "    pi = math.pi\n",
    "    aire = (r**2)*pi\n",
    "    if unite == 'm':\n",
    "        print(aire, \"m2\")\n",
    "    if unite == 'cm':\n",
    "        print(aire, \"cm2\")\n",
    "    else:\n",
    "        print(\"vous avez entrez une unité incorect\")\n",
    "airedisque(R, unite)"
   ],
   "outputs": [
    {
     "output_type": "stream",
     "name": "stdout",
     "text": [
      "Veuillez entrez le Rayon du disque: 4.2\n",
      "Veuillez entrez l'unite du Rayon(m ou cm): cm\n",
      "55.41769440932395 cm2\n"
     ]
    }
   ],
   "metadata": {}
  },
  {
   "cell_type": "code",
   "execution_count": null,
   "source": [],
   "outputs": [],
   "metadata": {}
  }
 ],
 "metadata": {
  "kernelspec": {
   "name": "python3",
   "display_name": "Python 3.8.8 64-bit ('base': conda)"
  },
  "language_info": {
   "codemirror_mode": {
    "name": "ipython",
    "version": 3
   },
   "file_extension": ".py",
   "mimetype": "text/x-python",
   "name": "python",
   "nbconvert_exporter": "python",
   "pygments_lexer": "ipython3",
   "version": "3.8.8"
  },
  "interpreter": {
   "hash": "cdf81b92522104b86b97524b3a06a60de05bb9235098dda50b2871d2833ef28d"
  }
 },
 "nbformat": 4,
 "nbformat_minor": 5
}